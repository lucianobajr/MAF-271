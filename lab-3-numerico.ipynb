{
  "nbformat": 4,
  "nbformat_minor": 0,
  "metadata": {
    "colab": {
      "provenance": [],
      "collapsed_sections": []
    },
    "kernelspec": {
      "name": "python3",
      "display_name": "Python 3"
    },
    "language_info": {
      "name": "python"
    }
  },
  "cells": [
    {
      "cell_type": "markdown",
      "source": [
        "# Luciano Belo - 3897\n",
        "# Mariana de Souza - 3898\n",
        "\n",
        "## Criação de um algoritmo para os teoremas:\n",
        "\n",
        "*  Diferenças divididas\n",
        "*  Eliminação de gauss\n",
        "\n",
        "\n",
        "\n"
      ],
      "metadata": {
        "id": "tEWf5HrjWuJJ"
      }
    },
    {
      "cell_type": "code",
      "source": [
        "import numpy as np\n",
        "import matplotlib.pyplot as plt\n",
        "import sympy as sym\n",
        "import math\n",
        "import seaborn as sns\n",
        "import sys\n",
        "from copy import copy"
      ],
      "metadata": {
        "id": "m2cTQR7gW8vc"
      },
      "execution_count": null,
      "outputs": []
    },
    {
      "cell_type": "markdown",
      "source": [
        "# 1) Método Newton - Diferenças divididas"
      ],
      "metadata": {
        "id": "GJudy9lfiyGs"
      }
    },
    {
      "cell_type": "code",
      "source": [
        "def proterm(i, value, x): \n",
        "    pro = 1; \n",
        "    for j in range(i): \n",
        "        pro = pro * (value - x[j]); \n",
        "    return pro; \n",
        "\n",
        "def dividedDiffTable(x, y, n):\n",
        "    for i in range(1, n): \n",
        "        for j in range(n - i): \n",
        "            y[j][i] = ((y[j][i - 1] - y[j + 1][i - 1]) /(x[j] - x[i + j]))\n",
        "    return y;\n",
        "  \n",
        "def applyFormula(value, x, y, n): \n",
        "    sum = y[0][0]; \n",
        "    for i in range(1, n):\n",
        "        sum = sum + (proterm(i, value, x) * y[0][i]); \n",
        "      \n",
        "    return sum; \n",
        "  \n",
        "def printDiffTable(y, n): \n",
        "  \n",
        "    for i in range(n): \n",
        "        for j in range(n - i): \n",
        "            print(round(y[i][j], 4), \"\\t\", end = \" \"); \n",
        "        print(\"\");\n",
        "\n",
        "def  divided_difference(n,x_list,y_list,value):\n",
        "  y = [[0 for i in range(10)] for j in range(10)];\n",
        "  \n",
        "  for i in range (n):\n",
        "    y[i][0] = y_list[i]; \n",
        "\n",
        "  y=dividedDiffTable(x, y, n); \n",
        "    \n",
        "  printDiffTable(y, n); \n",
        "  \n",
        "  print(\"\\nO valor em\", value, \"é\", round(applyFormula(value, x, y, n), 2))\n",
        "  \n",
        "n = 3\n",
        "x_list = [11, 12, 13] \n",
        "y_list = [1400, 2500, 3250]\n",
        "value = 10\n",
        "\n",
        "divided_difference(n,x_list,y_list,value)"
      ],
      "metadata": {
        "colab": {
          "base_uri": "https://localhost:8080/"
        },
        "id": "NDUEoJkZXFdr",
        "outputId": "ced39767-43c0-4e2f-9f07-c8ddc373c209"
      },
      "execution_count": null,
      "outputs": [
        {
          "output_type": "stream",
          "name": "stdout",
          "text": [
            "1400 \t 1100.0 \t -212.5 \t \n",
            "2500 \t 250.0 \t \n",
            "3250 \t \n",
            "\n",
            "O valor em 10 é 2650.0\n"
          ]
        }
      ]
    },
    {
      "cell_type": "markdown",
      "source": [
        "## 2) Eliminação de Gauss"
      ],
      "metadata": {
        "id": "Llx0jH_GH5W1"
      }
    },
    {
      "cell_type": "code",
      "source": [
        "def gauss_elimination(A, b):\n",
        "    n = len(A)\n",
        "    M = A\n",
        "\n",
        "    i = 0\n",
        "    for x in M:\n",
        "        x.append(b[i])\n",
        "        i += 1\n",
        "\n",
        "    for k in range(n):\n",
        "        print ('Iteração ', k, ':')\n",
        "        for i in range(k, n):\n",
        "            if abs(M[i][k]) > abs(M[k][k]):\n",
        "                (M[k], M[i]) = (M[i], M[k])\n",
        "            else:\n",
        "                pass\n",
        "\n",
        "        for row in M:\n",
        "            print(row)\n",
        "        print('')\n",
        "\n",
        "        for j in range(k + 1, n):\n",
        "            q = float(M[j][k]) / M[k][k]\n",
        "            print ('Linha ', j + 1, '- (', q, ') * Linha', 1 + k)\n",
        "            for m in range(k, n + 1):\n",
        "                M[j][m] -= q * M[k][m]\n",
        "\n",
        "        for row in M:\n",
        "            print(row)\n",
        "        print('')\n",
        "\n",
        "    x = [0 for i in range(n)]\n",
        "\n",
        "    x[n - 1] = float(M[n - 1][n]) / M[n - 1][n - 1]\n",
        "    for i in range(n - 1, -1, -1):\n",
        "        z = 0\n",
        "        for j in range(i + 1, n):\n",
        "            z = z + float(M[i][j]) * x[j]\n",
        "        x[i] = float(M[i][n] - z) / M[i][i]\n",
        "    return x\n",
        "\n",
        "A = [[2,3,-1],\n",
        "     [4,4,-3],\n",
        "     [2,-3,1]]\n",
        "     \n",
        "b = [5,3,-1]\n",
        "\n",
        "x = gauss_elimination(A,b)\n",
        "print(\"\\nO valor de x = \", x)"
      ],
      "metadata": {
        "colab": {
          "base_uri": "https://localhost:8080/"
        },
        "id": "MzVV-VhCb2Ax",
        "outputId": "7c5f1110-1403-40c7-eda4-089be7d016d0"
      },
      "execution_count": null,
      "outputs": [
        {
          "output_type": "stream",
          "name": "stdout",
          "text": [
            "Iteração  0 :\n",
            "[4, 4, -3, 3]\n",
            "[2, 3, -1, 5]\n",
            "[2, -3, 1, -1]\n",
            "\n",
            "Linha  2 - ( 0.5 ) * Linha 1\n",
            "Linha  3 - ( 0.5 ) * Linha 1\n",
            "[4, 4, -3, 3]\n",
            "[0.0, 1.0, 0.5, 3.5]\n",
            "[0.0, -5.0, 2.5, -2.5]\n",
            "\n",
            "Iteração  1 :\n",
            "[4, 4, -3, 3]\n",
            "[0.0, -5.0, 2.5, -2.5]\n",
            "[0.0, 1.0, 0.5, 3.5]\n",
            "\n",
            "Linha  3 - ( -0.2 ) * Linha 2\n",
            "[4, 4, -3, 3]\n",
            "[0.0, -5.0, 2.5, -2.5]\n",
            "[0.0, 0.0, 1.0, 3.0]\n",
            "\n",
            "Iteração  2 :\n",
            "[4, 4, -3, 3]\n",
            "[0.0, -5.0, 2.5, -2.5]\n",
            "[0.0, 0.0, 1.0, 3.0]\n",
            "\n",
            "[4, 4, -3, 3]\n",
            "[0.0, -5.0, 2.5, -2.5]\n",
            "[0.0, 0.0, 1.0, 3.0]\n",
            "\n",
            "\n",
            "O valor de x =  [1.0, 2.0, 3.0]\n"
          ]
        }
      ]
    },
    {
      "cell_type": "code",
      "source": [
        "%%capture\n",
        "!wget -nc https://raw.githubusercontent.com/brpy/colab-pdf/master/colab_pdf.py\n",
        "from colab_pdf import colab_pdf\n",
        "colab_pdf('lab-3-numerico.ipynb')"
      ],
      "metadata": {
        "id": "KVidIoKLE7ha"
      },
      "execution_count": null,
      "outputs": []
    }
  ]
}